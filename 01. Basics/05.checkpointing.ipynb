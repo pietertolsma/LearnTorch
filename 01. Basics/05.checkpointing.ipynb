{
 "cells": [
  {
   "cell_type": "markdown",
   "metadata": {},
   "source": [
    "# Checkpointing in PyTorch"
   ]
  },
  {
   "cell_type": "code",
   "execution_count": 4,
   "metadata": {},
   "outputs": [
    {
     "name": "stdout",
     "output_type": "stream",
     "text": [
      "0\n",
      "1\n",
      "2\n",
      "3\n",
      "4\n",
      "5\n",
      "6\n",
      "7\n",
      "8\n",
      "9\n",
      "10\n",
      "11\n"
     ]
    },
    {
     "ename": "RuntimeError",
     "evalue": "Parent directory saved does not exist.",
     "output_type": "error",
     "traceback": [
      "\u001b[0;31m---------------------------------------------------------------------------\u001b[0m",
      "\u001b[0;31mRuntimeError\u001b[0m                              Traceback (most recent call last)",
      "Cell \u001b[0;32mIn [4], line 45\u001b[0m\n\u001b[1;32m     43\u001b[0m \u001b[39mprint\u001b[39m(epoch)\n\u001b[1;32m     44\u001b[0m \u001b[39mif\u001b[39;00m epoch \u001b[39m>\u001b[39m \u001b[39m10\u001b[39m:\n\u001b[0;32m---> 45\u001b[0m     save(checkpoint_path, epoch, model, optimizer, loss)\n\u001b[1;32m     46\u001b[0m     \u001b[39mbreak\u001b[39;00m\n",
      "Cell \u001b[0;32mIn [4], line 16\u001b[0m, in \u001b[0;36msave\u001b[0;34m(path, epoch, model, optim, loss)\u001b[0m\n\u001b[1;32m     15\u001b[0m \u001b[39mdef\u001b[39;00m \u001b[39msave\u001b[39m(path, epoch, model, optim, loss):\n\u001b[0;32m---> 16\u001b[0m     torch\u001b[39m.\u001b[39;49msave({\n\u001b[1;32m     17\u001b[0m         \u001b[39m\"\u001b[39;49m\u001b[39mepoch\u001b[39;49m\u001b[39m\"\u001b[39;49m : epoch,\n\u001b[1;32m     18\u001b[0m         \u001b[39m\"\u001b[39;49m\u001b[39mmodel_state_dict\u001b[39;49m\u001b[39m\"\u001b[39;49m : model\u001b[39m.\u001b[39;49mstate_dict(),\n\u001b[1;32m     19\u001b[0m         \u001b[39m\"\u001b[39;49m\u001b[39moptimizer_state_dict\u001b[39;49m\u001b[39m\"\u001b[39;49m: optim\u001b[39m.\u001b[39;49mstate_dict(),\n\u001b[1;32m     20\u001b[0m         \u001b[39m\"\u001b[39;49m\u001b[39mloss\u001b[39;49m\u001b[39m\"\u001b[39;49m : loss\n\u001b[1;32m     21\u001b[0m     }, path)\n",
      "File \u001b[0;32m~/.pyenv/versions/3.10.4/lib/python3.10/site-packages/torch/serialization.py:434\u001b[0m, in \u001b[0;36msave\u001b[0;34m(obj, f, pickle_module, pickle_protocol, _use_new_zipfile_serialization)\u001b[0m\n\u001b[1;32m    431\u001b[0m _check_save_filelike(f)\n\u001b[1;32m    433\u001b[0m \u001b[39mif\u001b[39;00m _use_new_zipfile_serialization:\n\u001b[0;32m--> 434\u001b[0m     \u001b[39mwith\u001b[39;00m _open_zipfile_writer(f) \u001b[39mas\u001b[39;00m opened_zipfile:\n\u001b[1;32m    435\u001b[0m         _save(obj, opened_zipfile, pickle_module, pickle_protocol)\n\u001b[1;32m    436\u001b[0m         \u001b[39mreturn\u001b[39;00m\n",
      "File \u001b[0;32m~/.pyenv/versions/3.10.4/lib/python3.10/site-packages/torch/serialization.py:314\u001b[0m, in \u001b[0;36m_open_zipfile_writer\u001b[0;34m(name_or_buffer)\u001b[0m\n\u001b[1;32m    312\u001b[0m \u001b[39melse\u001b[39;00m:\n\u001b[1;32m    313\u001b[0m     container \u001b[39m=\u001b[39m _open_zipfile_writer_buffer\n\u001b[0;32m--> 314\u001b[0m \u001b[39mreturn\u001b[39;00m container(name_or_buffer)\n",
      "File \u001b[0;32m~/.pyenv/versions/3.10.4/lib/python3.10/site-packages/torch/serialization.py:287\u001b[0m, in \u001b[0;36m_open_zipfile_writer_file.__init__\u001b[0;34m(self, name)\u001b[0m\n\u001b[1;32m    286\u001b[0m \u001b[39mdef\u001b[39;00m \u001b[39m__init__\u001b[39m(\u001b[39mself\u001b[39m, name) \u001b[39m-\u001b[39m\u001b[39m>\u001b[39m \u001b[39mNone\u001b[39;00m:\n\u001b[0;32m--> 287\u001b[0m     \u001b[39msuper\u001b[39m()\u001b[39m.\u001b[39m\u001b[39m__init__\u001b[39m(torch\u001b[39m.\u001b[39;49m_C\u001b[39m.\u001b[39;49mPyTorchFileWriter(\u001b[39mstr\u001b[39;49m(name)))\n",
      "\u001b[0;31mRuntimeError\u001b[0m: Parent directory saved does not exist."
     ]
    }
   ],
   "source": [
    "import torch\n",
    "import torch.nn as nn\n",
    "import os.path\n",
    "\n",
    "class BasicNet(nn.Module):\n",
    "\n",
    "    def __init__(self):\n",
    "        super().__init__()\n",
    "        self.layer = nn.Linear(2, 2)\n",
    "\n",
    "    def forward(self, x):\n",
    "        return self.layer(x)\n",
    "\n",
    "\n",
    "def save(path, epoch, model, optim, loss):\n",
    "    if not os.path.exists(\"saved\"):\n",
    "        os.makedirs(\"saved\")\n",
    "    torch.save({\n",
    "        \"epoch\" : epoch,\n",
    "        \"model_state_dict\" : model.state_dict(),\n",
    "        \"optimizer_state_dict\": optim.state_dict(),\n",
    "        \"loss\" : loss\n",
    "    }, path)\n",
    "\n",
    "def load(path):\n",
    "    return torch.load(path)\n",
    "\n",
    "checkpoint_path = \"saved/checkpoint.pth\"\n",
    "epochs = 100\n",
    "epoch = 0\n",
    "model = BasicNet()\n",
    "optimizer = torch.optim.Adam(params=model.parameters(), lr=0.01)\n",
    "loss = 0\n",
    "\n",
    "if os.path.isfile(checkpoint_path):\n",
    "    # load from checkpoint\n",
    "    check = load(checkpoint_path)\n",
    "    epoch = check.epoch\n",
    "    model.load_state_dict(check.model_state_dict)\n",
    "    optimizer.load_state_dict(check.optimizer_state_dict)\n",
    "    loss = check.loss\n",
    "\n",
    "\n",
    "for epoch in range(epoch, epochs):\n",
    "    print(epoch)\n",
    "    if epoch > 10:\n",
    "        save(checkpoint_path, epoch, model, optimizer, loss)\n",
    "        break\n",
    "\n"
   ]
  },
  {
   "cell_type": "code",
   "execution_count": null,
   "metadata": {},
   "outputs": [],
   "source": []
  }
 ],
 "metadata": {
  "kernelspec": {
   "display_name": "Python 3.10.4 64-bit ('3.10.4')",
   "language": "python",
   "name": "python3"
  },
  "language_info": {
   "codemirror_mode": {
    "name": "ipython",
    "version": 3
   },
   "file_extension": ".py",
   "mimetype": "text/x-python",
   "name": "python",
   "nbconvert_exporter": "python",
   "pygments_lexer": "ipython3",
   "version": "3.10.4"
  },
  "orig_nbformat": 4,
  "vscode": {
   "interpreter": {
    "hash": "bee7b5fc7d362c8ce9bc17001a34db42aeff7681f988faa8277ea7ddd77a43cf"
   }
  }
 },
 "nbformat": 4,
 "nbformat_minor": 2
}
