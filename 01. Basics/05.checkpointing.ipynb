{
 "cells": [
  {
   "cell_type": "markdown",
   "metadata": {},
   "source": [
    "# Checkpointing in PyTorch"
   ]
  },
  {
   "cell_type": "code",
   "execution_count": 8,
   "metadata": {},
   "outputs": [],
   "source": [
    "import torch\n",
    "import torch.nn as nn\n",
    "import os.path\n",
    "\n",
    "class BasicNet(nn.Module):\n",
    "\n",
    "    def __init__(self):\n",
    "        super().__init__()\n",
    "        self.layer = nn.Linear(2, 2)\n",
    "\n",
    "    def forward(self, x):\n",
    "        return self.layer(x)\n",
    "\n",
    "\n",
    "def save(path, epoch, model, optim, loss):\n",
    "    if not os.path.exists(\"saved\"):\n",
    "        os.makedirs(\"saved\")\n",
    "    torch.save({\n",
    "        \"epoch\" : epoch,\n",
    "        \"model_state_dict\" : model.state_dict(),\n",
    "        \"optimizer_state_dict\": optim.state_dict(),\n",
    "        \"loss\" : loss\n",
    "    }, path)\n",
    "\n",
    "def load(path):\n",
    "    return torch.load(path)\n",
    "\n",
    "checkpoint_path = \"saved/checkpoint.pth\"\n",
    "epochs = 100\n",
    "epoch = 0\n",
    "model = BasicNet()\n",
    "optimizer = torch.optim.Adam(params=model.parameters(), lr=0.01)\n",
    "loss = 0\n",
    "\n",
    "if os.path.isfile(checkpoint_path):\n",
    "    # load from checkpoint\n",
    "    check = load(checkpoint_path)\n",
    "    epoch = check['epoch']\n",
    "    model.load_state_dict(check['model_state_dict'])\n",
    "    optimizer.load_state_dict(check['optimizer_state_dict'])\n",
    "    loss = check['loss']\n",
    "\n",
    "\n"
   ]
  },
  {
   "cell_type": "code",
   "execution_count": null,
   "metadata": {},
   "outputs": [],
   "source": []
  }
 ],
 "metadata": {
  "kernelspec": {
   "display_name": "Python 3.10.4 64-bit ('3.10.4')",
   "language": "python",
   "name": "python3"
  },
  "language_info": {
   "codemirror_mode": {
    "name": "ipython",
    "version": 3
   },
   "file_extension": ".py",
   "mimetype": "text/x-python",
   "name": "python",
   "nbconvert_exporter": "python",
   "pygments_lexer": "ipython3",
   "version": "3.10.4"
  },
  "orig_nbformat": 4,
  "vscode": {
   "interpreter": {
    "hash": "bee7b5fc7d362c8ce9bc17001a34db42aeff7681f988faa8277ea7ddd77a43cf"
   }
  }
 },
 "nbformat": 4,
 "nbformat_minor": 2
}
